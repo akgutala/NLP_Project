{
  "cells": [
    {
      "cell_type": "markdown",
      "source": [
        "# Natural Language Processing \n",
        "Project Increment - 1\n",
        "\n",
        "\n",
        "---\n",
        "\n",
        "\n",
        "Title: **Sentimental Analysis for Monarchy in UK**\n"
      ],
      "metadata": {
        "id": "VsJr95EfZCi3"
      }
    },
    {
      "cell_type": "markdown",
      "source": [
        "**Important Libraries**\n",
        "\n",
        "\n",
        "\n",
        "1.   Numpy\n",
        "* NumPy is a library for the Python programming language, adding support for large, multi-dimensional arrays and matrices, along with a large collection of high-level mathematical functions to operate on these arrays.\n",
        "\n",
        "2.   Pandas\n",
        "\n",
        "* Pandas is a software library written for the Python programming language for data manipulation and analysis. In particular, it offers data structures and operations for manipulating numerical tables and time series\n",
        "\n",
        "\n",
        "3. scikit-learn\n",
        "\n",
        "* Scikit-learn is an open source data analysis library, and the gold standard for Machine Learning (ML) in the Python ecosystem\n",
        "\n",
        "4. NLTK\n",
        "\n",
        "* The Natural Language Toolkit, or more commonly NLTK, is a suite of libraries and programs for symbolic and statistical natural language processing for English written in the Python programming language.\n",
        "\n",
        "5. Seaborn\n",
        "\n",
        "* Seaborn is a Python data visualization library based on matplotlib. It provides a high-level interface for drawing attractive and informative statistical graphics.\n",
        "\n",
        "6. SciPy\n",
        "* SciPy is a free and open-source Python library used for scientific computing and technical computing. SciPy contains modules for optimization, linear algebra, integration, interpolation, special functions, FFT, signal and image processing, ODE solvers and other tasks common in science and engineering."
      ],
      "metadata": {
        "id": "zAN1DkIWqcaW"
      }
    },
    {
      "cell_type": "code",
      "source": [
        "#Importing numpy library\n",
        "import numpy as np\n",
        "#Importing pandas library\n",
        "import pandas as pd\n",
        "#Importing NLTK library\n",
        "from nltk.stem import WordNetLemmatizer\n",
        "from nltk.tokenize import RegexpTokenizer\n",
        "import string\n",
        "#Importing Regular Expressions for various operations\n",
        "import re\n",
        "#Importing Scipy\n",
        "import scipy.stats as stats\n",
        "#Importing pylab\n",
        "import pylab\n",
        "#Importing Matplot\n",
        "import matplotlib.pyplot as plt\n",
        "#Importing Seaborn\n",
        "import seaborn as sns\n",
        "!pip install transformers\n",
        "from transformers import AutoTokenizer"
      ],
      "metadata": {
        "id": "dX9W99T0WfAa",
        "colab": {
          "base_uri": "https://localhost:8080/"
        },
        "outputId": "d4e1c52e-e34e-40d9-c7c5-8d9a259c69fb"
      },
      "execution_count": null,
      "outputs": [
        {
          "output_type": "stream",
          "name": "stdout",
          "text": [
            "Looking in indexes: https://pypi.org/simple, https://us-python.pkg.dev/colab-wheels/public/simple/\n",
            "Requirement already satisfied: transformers in /usr/local/lib/python3.7/dist-packages (4.24.0)\n",
            "Requirement already satisfied: numpy>=1.17 in /usr/local/lib/python3.7/dist-packages (from transformers) (1.21.6)\n",
            "Requirement already satisfied: importlib-metadata in /usr/local/lib/python3.7/dist-packages (from transformers) (4.13.0)\n",
            "Requirement already satisfied: filelock in /usr/local/lib/python3.7/dist-packages (from transformers) (3.8.0)\n",
            "Requirement already satisfied: regex!=2019.12.17 in /usr/local/lib/python3.7/dist-packages (from transformers) (2022.6.2)\n",
            "Requirement already satisfied: tqdm>=4.27 in /usr/local/lib/python3.7/dist-packages (from transformers) (4.64.1)\n",
            "Requirement already satisfied: pyyaml>=5.1 in /usr/local/lib/python3.7/dist-packages (from transformers) (6.0)\n",
            "Requirement already satisfied: huggingface-hub<1.0,>=0.10.0 in /usr/local/lib/python3.7/dist-packages (from transformers) (0.11.1)\n",
            "Requirement already satisfied: packaging>=20.0 in /usr/local/lib/python3.7/dist-packages (from transformers) (21.3)\n",
            "Requirement already satisfied: requests in /usr/local/lib/python3.7/dist-packages (from transformers) (2.23.0)\n",
            "Requirement already satisfied: tokenizers!=0.11.3,<0.14,>=0.11.1 in /usr/local/lib/python3.7/dist-packages (from transformers) (0.13.2)\n",
            "Requirement already satisfied: typing-extensions>=3.7.4.3 in /usr/local/lib/python3.7/dist-packages (from huggingface-hub<1.0,>=0.10.0->transformers) (4.1.1)\n",
            "Requirement already satisfied: pyparsing!=3.0.5,>=2.0.2 in /usr/local/lib/python3.7/dist-packages (from packaging>=20.0->transformers) (3.0.9)\n",
            "Requirement already satisfied: zipp>=0.5 in /usr/local/lib/python3.7/dist-packages (from importlib-metadata->transformers) (3.10.0)\n",
            "Requirement already satisfied: chardet<4,>=3.0.2 in /usr/local/lib/python3.7/dist-packages (from requests->transformers) (3.0.4)\n",
            "Requirement already satisfied: certifi>=2017.4.17 in /usr/local/lib/python3.7/dist-packages (from requests->transformers) (2022.9.24)\n",
            "Requirement already satisfied: idna<3,>=2.5 in /usr/local/lib/python3.7/dist-packages (from requests->transformers) (2.10)\n",
            "Requirement already satisfied: urllib3!=1.25.0,!=1.25.1,<1.26,>=1.21.1 in /usr/local/lib/python3.7/dist-packages (from requests->transformers) (1.24.3)\n"
          ]
        }
      ]
    },
    {
      "cell_type": "code",
      "source": [
        "import nltk\n",
        "nltk.download('wordnet')\n",
        "!python3 -m nltk.downloader wordnet\n",
        "!unzip /root/nltk_data/corpora/wordnet.zip -d /root/nltk_data/corpora/"
      ],
      "metadata": {
        "id": "gq6nK8sa42a9",
        "colab": {
          "base_uri": "https://localhost:8080/"
        },
        "outputId": "660761d6-4539-4e25-ff87-89da38eb9ce6"
      },
      "execution_count": null,
      "outputs": [
        {
          "output_type": "stream",
          "name": "stderr",
          "text": [
            "[nltk_data] Downloading package wordnet to /root/nltk_data...\n",
            "[nltk_data]   Package wordnet is already up-to-date!\n"
          ]
        },
        {
          "output_type": "stream",
          "name": "stdout",
          "text": [
            "/usr/lib/python3.7/runpy.py:125: RuntimeWarning: 'nltk.downloader' found in sys.modules after import of package 'nltk', but prior to execution of 'nltk.downloader'; this may result in unpredictable behaviour\n",
            "  warn(RuntimeWarning(msg))\n",
            "[nltk_data] Downloading package wordnet to /root/nltk_data...\n",
            "[nltk_data]   Package wordnet is already up-to-date!\n",
            "Archive:  /root/nltk_data/corpora/wordnet.zip\n",
            "replace /root/nltk_data/corpora/wordnet/lexnames? [y]es, [n]o, [A]ll, [N]one, [r]ename: A\n",
            "  inflating: /root/nltk_data/corpora/wordnet/lexnames  \n",
            "  inflating: /root/nltk_data/corpora/wordnet/data.verb  \n",
            "  inflating: /root/nltk_data/corpora/wordnet/index.adv  \n",
            "  inflating: /root/nltk_data/corpora/wordnet/adv.exc  \n",
            "  inflating: /root/nltk_data/corpora/wordnet/index.verb  \n",
            "  inflating: /root/nltk_data/corpora/wordnet/cntlist.rev  \n",
            "  inflating: /root/nltk_data/corpora/wordnet/data.adj  \n",
            "  inflating: /root/nltk_data/corpora/wordnet/index.adj  \n",
            "  inflating: /root/nltk_data/corpora/wordnet/LICENSE  \n",
            "  inflating: /root/nltk_data/corpora/wordnet/citation.bib  \n",
            "  inflating: /root/nltk_data/corpora/wordnet/noun.exc  \n",
            "  inflating: /root/nltk_data/corpora/wordnet/verb.exc  \n",
            "  inflating: /root/nltk_data/corpora/wordnet/README  \n",
            "  inflating: /root/nltk_data/corpora/wordnet/index.sense  \n",
            "  inflating: /root/nltk_data/corpora/wordnet/data.noun  \n",
            "  inflating: /root/nltk_data/corpora/wordnet/data.adv  \n",
            "  inflating: /root/nltk_data/corpora/wordnet/index.noun  \n",
            "  inflating: /root/nltk_data/corpora/wordnet/adj.exc  \n"
          ]
        }
      ]
    },
    {
      "cell_type": "markdown",
      "source": [
        "**Important functions**"
      ],
      "metadata": {
        "id": "bM28JfOrunOT"
      }
    },
    {
      "cell_type": "code",
      "source": [
        "def stopwordsRemovalFn(text):\n",
        "    return \" \".join([word for word in str(text).split() if word not in stop_words])\n",
        "\n",
        "def punctuationRemovalFn(text):\n",
        "    english_punctuations = string.punctuation\n",
        "    translator = str.maketrans('', '', english_punctuations)\n",
        "    return text.translate(translator)\n",
        "\n",
        "def repeatingCharacterRemovalFn(text):\n",
        "    return re.sub(r'(.)1+', r'1', text)\n",
        "\n",
        "def cleaningHTMLDataFn(data):\n",
        "    return re.sub('((www.[^s]+)|(https?://[^s]+))',' ',data)\n",
        "\n",
        "def removingNumbersFn(data):\n",
        "    return re.sub('[0-9]+', '', data)\n",
        "\n",
        "def lemmatizeDataFn(data):\n",
        "    text = [lm.lemmatize(word) for word in data]\n",
        "    return data\n",
        "\n",
        "def textClassification(score):\n",
        "  if score < 0:\n",
        "    return \"Negative\"\n",
        "  elif score == 0:\n",
        "    return \"Neutral\"\n",
        "  else:\n",
        "    return \"Positive\""
      ],
      "metadata": {
        "id": "fPjD95koum-T"
      },
      "execution_count": null,
      "outputs": []
    },
    {
      "cell_type": "markdown",
      "source": [
        "# Dataset Information"
      ],
      "metadata": {
        "id": "hiYwS_TGDuXV"
      }
    },
    {
      "cell_type": "code",
      "source": [
        "queenTweetsDf = pd.read_csv(\"/content/queen.csv\")\n",
        "queenTweetsDf.info()"
      ],
      "metadata": {
        "colab": {
          "base_uri": "https://localhost:8080/"
        },
        "id": "c-LZT0BPx21P",
        "outputId": "5d6c3bfd-a665-4d38-ab73-9c3310f706ba"
      },
      "execution_count": null,
      "outputs": [
        {
          "output_type": "stream",
          "name": "stdout",
          "text": [
            "<class 'pandas.core.frame.DataFrame'>\n",
            "RangeIndex: 190325 entries, 0 to 190324\n",
            "Data columns (total 36 columns):\n",
            " #   Column           Non-Null Count   Dtype  \n",
            "---  ------           --------------   -----  \n",
            " 0   id               190325 non-null  int64  \n",
            " 1   conversation_id  190325 non-null  int64  \n",
            " 2   created_at       190325 non-null  object \n",
            " 3   date             190325 non-null  object \n",
            " 4   time             190325 non-null  object \n",
            " 5   timezone         190325 non-null  int64  \n",
            " 6   user_id          190325 non-null  int64  \n",
            " 7   username         190325 non-null  object \n",
            " 8   name             190315 non-null  object \n",
            " 9   place            228 non-null     object \n",
            " 10  tweet            190325 non-null  object \n",
            " 11  language         190325 non-null  object \n",
            " 12  mentions         190325 non-null  object \n",
            " 13  urls             190325 non-null  object \n",
            " 14  photos           190325 non-null  object \n",
            " 15  replies_count    190325 non-null  int64  \n",
            " 16  retweets_count   190325 non-null  int64  \n",
            " 17  likes_count      190325 non-null  int64  \n",
            " 18  hashtags         190325 non-null  object \n",
            " 19  cashtags         190325 non-null  object \n",
            " 20  link             190325 non-null  object \n",
            " 21  retweet          190325 non-null  bool   \n",
            " 22  quote_url        13406 non-null   object \n",
            " 23  video            190325 non-null  int64  \n",
            " 24  thumbnail        75123 non-null   object \n",
            " 25  near             0 non-null       float64\n",
            " 26  geo              0 non-null       float64\n",
            " 27  source           0 non-null       float64\n",
            " 28  user_rt_id       0 non-null       float64\n",
            " 29  user_rt          0 non-null       float64\n",
            " 30  retweet_id       0 non-null       float64\n",
            " 31  reply_to         190325 non-null  object \n",
            " 32  retweet_date     0 non-null       float64\n",
            " 33  translate        0 non-null       float64\n",
            " 34  trans_src        0 non-null       float64\n",
            " 35  trans_dest       0 non-null       float64\n",
            "dtypes: bool(1), float64(10), int64(8), object(17)\n",
            "memory usage: 51.0+ MB\n"
          ]
        }
      ]
    },
    {
      "cell_type": "code",
      "source": [
        "plt.figure(figsize=(10,10))\n",
        "color_palette = sns.color_palette(\"Paired\")\n",
        "plt.pie(queenTweetsDf.language.value_counts(), labels=queenTweetsDf.language.value_counts().index, autopct=\"%1.1f%%\", colors=color_palette, shadow=True)\n",
        "plt.title(\"Unique Languages\")\n",
        "plt.show()"
      ],
      "metadata": {
        "colab": {
          "base_uri": "https://localhost:8080/",
          "height": 591
        },
        "id": "pZBQL63KyWcm",
        "outputId": "c32b4036-36b7-4e83-e651-ebca2bd75d91"
      },
      "execution_count": null,
      "outputs": [
        {
          "output_type": "display_data",
          "data": {
            "text/plain": [
              "<Figure size 720x720 with 1 Axes>"
            ],
            "image/png": "[encoded data removed]"
          },
          "metadata": {}
        }
      ]
    },
    {
      "cell_type": "markdown",
      "source": [
        "\n",
        "> Pie chart displaying portion of languages in the dataset\n",
        "\n"
      ],
      "metadata": {
        "id": "OrwjbQHs4Cod"
      }
    },
    {
      "cell_type": "code",
      "execution_count": null,
      "metadata": {
        "id": "IME0DIJKMVHL",
        "colab": {
          "base_uri": "https://localhost:8080/"
        },
        "outputId": "4c57b36a-757c-4b71-e2bc-40e35cfef6f0"
      },
      "outputs": [
        {
          "output_type": "stream",
          "name": "stdout",
          "text": [
            "                                                    tweet language\n",
            "0       We at In Professional Development join with pe...       en\n",
            "1       Join us in remembering Her Majesty Queen Eliza...       en\n",
            "2       \"When life seems hard, the courageous do not l...       en\n",
            "3       We join the nation in mourning the death of He...       en\n",
            "4       We are saddened by the death of Her Majesty Qu...       en\n",
            "...                                                   ...      ...\n",
            "190320  Queen Elizabeth II, Britain's longest-reigning...       en\n",
            "190321  Queen Elizabeth II dies at age 96  https://t.c...       en\n",
            "190322  GOD SAVE THE KING !! Today a figure of our his...       en\n",
            "190323  70 years. ⠀⠀ 15 Prime Ministers. ⠀⠀ 13 America...       en\n",
            "190324  She wasn't perfect but she was great, an insti...       en\n",
            "\n",
            "[190325 rows x 2 columns]\n",
            "                                                    tweet language\n",
            "0       We at In Professional Development join with pe...       en\n",
            "1       Join us in remembering Her Majesty Queen Eliza...       en\n",
            "2       \"When life seems hard, the courageous do not l...       en\n",
            "3       We join the nation in mourning the death of He...       en\n",
            "4       We are saddened by the death of Her Majesty Qu...       en\n",
            "...                                                   ...      ...\n",
            "190320  Queen Elizabeth II, Britain's longest-reigning...       en\n",
            "190321  Queen Elizabeth II dies at age 96  https://t.c...       en\n",
            "190322  GOD SAVE THE KING !! Today a figure of our his...       en\n",
            "190323  70 years. ⠀⠀ 15 Prime Ministers. ⠀⠀ 13 America...       en\n",
            "190324  She wasn't perfect but she was great, an insti...       en\n",
            "\n",
            "[159530 rows x 2 columns]\n",
            "                                                    tweet language\n",
            "0       We at In Professional Development join with pe...       en\n",
            "1       Join us in remembering Her Majesty Queen Eliza...       en\n",
            "2       \"When life seems hard, the courageous do not l...       en\n",
            "3       We join the nation in mourning the death of He...       en\n",
            "4       We are saddened by the death of Her Majesty Qu...       en\n",
            "...                                                   ...      ...\n",
            "190320  Queen Elizabeth II, Britain's longest-reigning...       en\n",
            "190321  Queen Elizabeth II dies at age 96  https://t.c...       en\n",
            "190322  GOD SAVE THE KING !! Today a figure of our his...       en\n",
            "190323  70 years. ⠀⠀ 15 Prime Ministers. ⠀⠀ 13 America...       en\n",
            "190324  She wasn't perfect but she was great, an insti...       en\n",
            "\n",
            "[159530 rows x 2 columns]\n",
            "0         We at In Professional Development join with pe...\n",
            "1         Join us in remembering Her Majesty Queen Eliza...\n",
            "2         \"When life seems hard, the courageous do not l...\n",
            "3         We join the nation in mourning the death of He...\n",
            "4         We are saddened by the death of Her Majesty Qu...\n",
            "                                ...                        \n",
            "190320    Queen Elizabeth II, Britain's longest-reigning...\n",
            "190321    Queen Elizabeth II dies at age 96  https://t.c...\n",
            "190322    GOD SAVE THE KING !! Today a figure of our his...\n",
            "190323    70 years. ⠀⠀ 15 Prime Ministers. ⠀⠀ 13 America...\n",
            "190324    She wasn't perfect but she was great, an insti...\n",
            "Name: tweet, Length: 159530, dtype: object\n"
          ]
        }
      ],
      "source": [
        "filteredColumns = [\"tweet\", \"language\"]\n",
        "queenTweetsDf = pd.read_csv(\"queen.csv\", usecols=filteredColumns)\n",
        "#The content before filtering out the Tweets only containg English Language\n",
        "print(queenTweetsDf)\n",
        "print(queenTweetsDf[queenTweetsDf.language=='en'])\n",
        "#The content after Filtering out the Tweets that only contain English Language\n",
        "tweetInEn=queenTweetsDf[queenTweetsDf.language=='en']\n",
        "print(tweetInEn)\n",
        "data=tweetInEn.tweet\n",
        "print(data)"
      ]
    },
    {
      "cell_type": "code",
      "source": [
        "#Printing the dictionary of stopwords downloaded from NLTK corpus\n",
        "from nltk.corpus import stopwords\n",
        "stop_words = set(stopwords.words('english'))\n",
        "print(stop_words)"
      ],
      "metadata": {
        "colab": {
          "base_uri": "https://localhost:8080/"
        },
        "id": "5V8bLRMbW4tp",
        "outputId": "c3b70990-95f3-426f-a1d2-0fdc4d84a2a1"
      },
      "execution_count": null,
      "outputs": [
        {
          "output_type": "stream",
          "name": "stdout",
          "text": [
            "{'wouldn', 'between', \"couldn't\", 'more', 'up', 'during', 'them', 'against', 'no', 'this', 'here', 'too', 'why', \"aren't\", 'yourself', 'on', \"didn't\", 'weren', 'in', 'nor', 'y', 'into', 'themselves', 'haven', 'mustn', \"won't\", 'or', \"needn't\", 'ma', 'while', 'have', 'shouldn', 'about', 's', 'down', 'do', 'and', 'we', 'being', 'once', 'of', 'to', 'but', 'all', 'it', 'as', 'can', \"mustn't\", 'through', 'am', 'her', 'out', 'where', 'should', 'wasn', 'few', 'only', 'couldn', 'if', 'won', 'these', 'they', 'has', 'aren', 'myself', 'him', 've', 'just', 'you', 'hers', 'very', \"weren't\", 'are', 'most', 'yours', 'isn', 'did', 'was', 'so', \"you're\", 'been', 'hadn', 'their', 'had', 'our', \"isn't\", 'mightn', 'by', 'for', 'd', \"wouldn't\", 'hasn', 'needn', 'some', \"that'll\", \"shouldn't\", 'same', 'theirs', 'each', 'don', 're', \"hadn't\", \"hasn't\", 'until', \"you've\", 'i', \"it's\", 'he', 'what', 'be', 'a', 'at', 'then', \"she's\", 'ain', 'll', 'now', \"wasn't\", 'not', 'when', 'himself', 'm', 'above', 'its', 'having', 'after', \"you'll\", 'o', 't', 'how', 'an', 'both', 'does', 'who', 'with', 'over', \"should've\", 'were', 'because', 'which', 'under', 'his', 'any', 'your', 'is', 'before', 'than', \"haven't\", 'she', 'those', \"shan't\", \"don't\", 'whom', \"you'd\", 'shan', 'itself', 'my', 'yourselves', 'further', 'doing', 'herself', 'again', 'the', 'such', 'below', \"doesn't\", 'own', 'off', 'doesn', 'ours', \"mightn't\", 'ourselves', 'from', 'will', 'other', 'me', 'didn', 'there', 'that'}\n"
          ]
        }
      ]
    },
    {
      "cell_type": "markdown",
      "source": [
        "## **Stopwords removal**"
      ],
      "metadata": {
        "id": "s2RygOE6Czqt"
      }
    },
    {
      "cell_type": "code",
      "source": [
        "data = data.apply(lambda text: stopwordsRemovalFn(text))\n",
        "#Printing data after removing the stopwords\n",
        "data.head()"
      ],
      "metadata": {
        "colab": {
          "base_uri": "https://localhost:8080/"
        },
        "id": "haKohopNYlLL",
        "outputId": "b3feb419-434c-453c-c8df-dc3581985001"
      },
      "execution_count": null,
      "outputs": [
        {
          "output_type": "execute_result",
          "data": {
            "text/plain": [
              "0    We In Professional Development join people acr...\n",
              "1    Join us remembering Her Majesty Queen Elizabet...\n",
              "2    \"When life seems hard, courageous lie accept d...\n",
              "3    We join nation mourning death Her Majesty Quee...\n",
              "4    We saddened death Her Majesty Queen Elizabeth ...\n",
              "Name: tweet, dtype: object"
            ]
          },
          "metadata": {},
          "execution_count": 101
        }
      ]
    },
    {
      "cell_type": "markdown",
      "source": [
        "## **Punctuation removal**"
      ],
      "metadata": {
        "id": "5HkZ_s16CtuX"
      }
    },
    {
      "cell_type": "code",
      "source": [
        "data=data.apply(lambda x: punctuationRemovalFn(x))\n",
        "#Printing data after removing punctuation from the dataset\n",
        "data.tail()"
      ],
      "metadata": {
        "colab": {
          "base_uri": "https://localhost:8080/"
        },
        "id": "KhLRRmVuaLm0",
        "outputId": "c9560b25-2e7e-4903-8abe-f264b7dcb92e"
      },
      "execution_count": null,
      "outputs": [
        {
          "output_type": "execute_result",
          "data": {
            "text/plain": [
              "190320    Queen Elizabeth II Britains longestreigning mo...\n",
              "190321    Queen Elizabeth II dies age 96 httpstcon5hYC6Q...\n",
              "190322    GOD SAVE THE KING  Today figure history centur...\n",
              "190323    70 years ⠀⠀ 15 Prime Ministers ⠀⠀ 13 American ...\n",
              "190324    She perfect great institution constant world S...\n",
              "Name: tweet, dtype: object"
            ]
          },
          "metadata": {},
          "execution_count": 103
        }
      ]
    },
    {
      "cell_type": "markdown",
      "source": [
        "## **Removing repeated characters**"
      ],
      "metadata": {
        "id": "jBvSMoW0Cmsy"
      }
    },
    {
      "cell_type": "code",
      "source": [
        "data= data.apply(lambda x: repeatingCharacterRemovalFn(x))\n",
        "#Printing data after removing repeating characters removal\n",
        "data.tail()"
      ],
      "metadata": {
        "colab": {
          "base_uri": "https://localhost:8080/"
        },
        "id": "jv1JRneiafeR",
        "outputId": "65e530d3-a1e8-4bf8-f85e-2601086a7661"
      },
      "execution_count": null,
      "outputs": [
        {
          "output_type": "execute_result",
          "data": {
            "text/plain": [
              "190320    Queen Elizabeth II Britains longestreigning mo...\n",
              "190321    Queen Elizabeth II dies age 96 httpstcon5hYC6Q...\n",
              "190322    GOD SAVE THE KING  Today figure history centur...\n",
              "190323    70 years ⠀⠀15 Prime Ministers ⠀⠀13 American Pr...\n",
              "190324    She perfect great institution constant world S...\n",
              "Name: tweet, dtype: object"
            ]
          },
          "metadata": {},
          "execution_count": 104
        }
      ]
    },
    {
      "cell_type": "markdown",
      "source": [
        "## **Cleaning URLs / HTML Data**"
      ],
      "metadata": {
        "id": "m3hjSwpVCgoQ"
      }
    },
    {
      "cell_type": "code",
      "source": [
        "  data= data.apply(lambda x: cleaningHTMLDataFn(x))\n",
        "  #Printing data after removing URL or any HTML Data in the dataset\n",
        "  data.tail()\n"
      ],
      "metadata": {
        "colab": {
          "base_uri": "https://localhost:8080/"
        },
        "id": "3iec_7rYanTL",
        "outputId": "d54436e5-30b9-42a3-9963-93ddc88aeffc"
      },
      "execution_count": null,
      "outputs": [
        {
          "output_type": "execute_result",
          "data": {
            "text/plain": [
              "190320    Queen Elizabeth II Britains longestreigning mo...\n",
              "190321    Queen Elizabeth II dies age 96 httpstcon5hYC6Q...\n",
              "190322    GOD SAVE THE KING  Today figure history centur...\n",
              "190323    70 years ⠀⠀15 Prime Ministers ⠀⠀13 American Pr...\n",
              "190324    She perfect great institution constant world S...\n",
              "Name: tweet, dtype: object"
            ]
          },
          "metadata": {},
          "execution_count": 105
        }
      ]
    },
    {
      "cell_type": "markdown",
      "source": [
        "## **Filtering Numbers**"
      ],
      "metadata": {
        "id": "DMxSPrLJCbVL"
      }
    },
    {
      "cell_type": "code",
      "source": [
        "data = data.apply(lambda x: removingNumbersFn(x))\n",
        "#Removing any numbers taht are in the dataset\n",
        "data.tail()"
      ],
      "metadata": {
        "colab": {
          "base_uri": "https://localhost:8080/"
        },
        "id": "VkZAY7CLascV",
        "outputId": "0468da4b-a377-4da7-8d98-c099d5186247"
      },
      "execution_count": null,
      "outputs": [
        {
          "output_type": "execute_result",
          "data": {
            "text/plain": [
              "190320    Queen Elizabeth II Britains longestreigning mo...\n",
              "190321    Queen Elizabeth II dies age  httpstconhYCQMpq ...\n",
              "190322    GOD SAVE THE KING  Today figure history centur...\n",
              "190323     years ⠀⠀ Prime Ministers ⠀⠀ American Presiden...\n",
              "190324    She perfect great institution constant world S...\n",
              "Name: tweet, dtype: object"
            ]
          },
          "metadata": {},
          "execution_count": 106
        }
      ]
    },
    {
      "cell_type": "markdown",
      "source": [
        "## **Tokenization**"
      ],
      "metadata": {
        "id": "xWseU56kCWLr"
      }
    },
    {
      "cell_type": "code",
      "source": [
        "tokenizer = AutoTokenizer.from_pretrained(\"distilbert-base-uncased\")\n",
        "#Printing tokens after tokenizing with the help of DistilBERT base model\n",
        "data = data.apply(tokenizer.tokenize)\n",
        "data.head()"
      ],
      "metadata": {
        "colab": {
          "base_uri": "https://localhost:8080/"
        },
        "id": "O1RisAJ0ayJ1",
        "outputId": "2a4b71ba-d9c5-42dd-8a4d-e85c953b5db9"
      },
      "execution_count": null,
      "outputs": [
        {
          "output_type": "execute_result",
          "data": {
            "text/plain": [
              "0    [we, in, professional, development, join, peop...\n",
              "1    [join, us, remembering, her, majesty, queen, e...\n",
              "2    [when, life, seems, hard, courageous, lie, acc...\n",
              "3    [we, join, nation, mourning, death, her, majes...\n",
              "4    [we, sad, ##dened, death, her, majesty, queen,...\n",
              "Name: tweet, dtype: object"
            ]
          },
          "metadata": {},
          "execution_count": 107
        }
      ]
    },
    {
      "cell_type": "markdown",
      "source": [
        "## **Lemmatization**"
      ],
      "metadata": {
        "id": "r4wrk42aCO8r"
      }
    },
    {
      "cell_type": "code",
      "source": [
        "lm = nltk.WordNetLemmatizer()\n",
        "data = data.apply(lambda x: lemmatizeDataFn(x))\n",
        "#Printing data after lemmatizing text with the help of lemmatize function from NLTK\n",
        "data.head()"
      ],
      "metadata": {
        "colab": {
          "base_uri": "https://localhost:8080/"
        },
        "id": "c3rzeNxT1B-d",
        "outputId": "439a5d0e-ee7e-4f14-e999-fa8da138e8dc"
      },
      "execution_count": null,
      "outputs": [
        {
          "output_type": "execute_result",
          "data": {
            "text/plain": [
              "0    [we, in, professional, development, join, peop...\n",
              "1    [join, us, remembering, her, majesty, queen, e...\n",
              "2    [when, life, seems, hard, courageous, lie, acc...\n",
              "3    [we, join, nation, mourning, death, her, majes...\n",
              "4    [we, sad, ##dened, death, her, majesty, queen,...\n",
              "Name: tweet, dtype: object"
            ]
          },
          "metadata": {},
          "execution_count": 108
        }
      ]
    },
    {
      "cell_type": "markdown",
      "source": [
        "# Sentiment Analysis"
      ],
      "metadata": {
        "id": "IB339c18JEsg"
      }
    },
    {
      "cell_type": "code",
      "source": [
        "from textblob import TextBlob\n",
        "from tqdm import tqdm\n",
        "from statistics import mean\n",
        "import json\n",
        "\n",
        "tqdm.pandas()\n",
        "queenTweetsDf['sentiment'] = queenTweetsDf['tweet'].progress_apply(lambda x : TextBlob(x).sentiment[0])\n",
        "\n",
        "# calculate the average of the last column\n"
      ],
      "metadata": {
        "colab": {
          "base_uri": "https://localhost:8080/"
        },
        "id": "rSoTxrZiO348",
        "outputId": "8e5286bc-52cf-4f3c-9046-bf1c91557deb"
      },
      "execution_count": null,
      "outputs": [
        {
          "output_type": "stream",
          "name": "stderr",
          "text": [
            "100%|██████████| 190325/190325 [01:18<00:00, 2439.80it/s]\n"
          ]
        }
      ]
    },
    {
      "cell_type": "code",
      "source": [
        "avgSen = mean(queenTweetsDf['sentiment'])\n",
        "print (queenTweetsDf)"
      ],
      "metadata": {
        "colab": {
          "base_uri": "https://localhost:8080/"
        },
        "id": "3aoGVFP2Pgn4",
        "outputId": "0189a026-341b-4358-b6a9-4cdf71fd2868"
      },
      "execution_count": null,
      "outputs": [
        {
          "output_type": "stream",
          "name": "stdout",
          "text": [
            "                                                    tweet language  sentiment\n",
            "0       We at In Professional Development join with pe...       en   0.100000\n",
            "1       Join us in remembering Her Majesty Queen Eliza...       en   0.150000\n",
            "2       \"When life seems hard, the courageous do not l...       en   0.110556\n",
            "3       We join the nation in mourning the death of He...       en   0.000000\n",
            "4       We are saddened by the death of Her Majesty Qu...       en   0.000000\n",
            "...                                                   ...      ...        ...\n",
            "190320  Queen Elizabeth II, Britain's longest-reigning...       en  -0.050000\n",
            "190321  Queen Elizabeth II dies at age 96  https://t.c...       en   0.000000\n",
            "190322  GOD SAVE THE KING !! Today a figure of our his...       en  -0.200000\n",
            "190323  70 years. ⠀⠀ 15 Prime Ministers. ⠀⠀ 13 America...       en  -0.300000\n",
            "190324  She wasn't perfect but she was great, an insti...       en   0.495238\n",
            "\n",
            "[190325 rows x 3 columns]\n"
          ]
        }
      ]
    },
    {
      "cell_type": "code",
      "source": [
        "from sklearn import preprocessing\n",
        "le = preprocessing.LabelEncoder()\n",
        "le.fit(queenTweetsDf.sentiment)\n",
        "queenTweetsDf['categorical_label'] = le.transform(queenTweetsDf.sentiment)\n",
        "print(queenTweetsDf)"
      ],
      "metadata": {
        "id": "5aqKpaVJNMlU",
        "colab": {
          "base_uri": "https://localhost:8080/"
        },
        "outputId": "d1114eae-1223-4773-b35c-be2cfb43af45"
      },
      "execution_count": null,
      "outputs": [
        {
          "output_type": "stream",
          "name": "stdout",
          "text": [
            "                                                    tweet language  sentiment  \\\n",
            "0       We at In Professional Development join with pe...       en   0.100000   \n",
            "1       Join us in remembering Her Majesty Queen Eliza...       en   0.150000   \n",
            "2       \"When life seems hard, the courageous do not l...       en   0.110556   \n",
            "3       We join the nation in mourning the death of He...       en   0.000000   \n",
            "4       We are saddened by the death of Her Majesty Qu...       en   0.000000   \n",
            "...                                                   ...      ...        ...   \n",
            "190320  Queen Elizabeth II, Britain's longest-reigning...       en  -0.050000   \n",
            "190321  Queen Elizabeth II dies at age 96  https://t.c...       en   0.000000   \n",
            "190322  GOD SAVE THE KING !! Today a figure of our his...       en  -0.200000   \n",
            "190323  70 years. ⠀⠀ 15 Prime Ministers. ⠀⠀ 13 America...       en  -0.300000   \n",
            "190324  She wasn't perfect but she was great, an insti...       en   0.495238   \n",
            "\n",
            "        categorical_label  \n",
            "0                    3280  \n",
            "1                    3766  \n",
            "2                    3402  \n",
            "3                    2124  \n",
            "4                    2124  \n",
            "...                   ...  \n",
            "190320               1543  \n",
            "190321               2124  \n",
            "190322                671  \n",
            "190323                388  \n",
            "190324               6040  \n",
            "\n",
            "[190325 rows x 4 columns]\n"
          ]
        }
      ]
    },
    {
      "cell_type": "code",
      "source": [
        "print(avgSen)"
      ],
      "metadata": {
        "colab": {
          "base_uri": "https://localhost:8080/"
        },
        "id": "g9OPB7aOZ4eB",
        "outputId": "2037345f-8205-465f-9420-feb8a500bd5e"
      },
      "execution_count": null,
      "outputs": [
        {
          "output_type": "stream",
          "name": "stdout",
          "text": [
            "0.07160620605820173\n"
          ]
        }
      ]
    },
    {
      "cell_type": "markdown",
      "source": [
        "## **True Positive and True Negative**"
      ],
      "metadata": {
        "id": "B6u_-hKFnu1L"
      }
    },
    {
      "cell_type": "code",
      "source": [
        "#Initalizing true_positive/negative/neutral variables \n",
        "true_positive=0\n",
        "true_negative=0\n",
        "positive=0\n",
        "negative=0\n",
        "neutral=0\n",
        "#Calculating the total length of the dataframe \n",
        "total=len(queenTweetsDf)\n",
        "#Iterating through the 'queenTweetsDf' and calculating the scores of true positive / true negative and neutral. \n",
        "for i in range(total):\n",
        "  score=queenTweetsDf['sentiment'][i]\n",
        "  if score < (-0.15):\n",
        "    true_negative=true_negative+1\n",
        "  elif score == 0:\n",
        "    neutral=neutral+1\n",
        "  elif score>(0.15):\n",
        "    true_positive=true_positive+1\n",
        "  if score>0:\n",
        "    positive=positive+1\n",
        "  if score<0:\n",
        "    negative=negative+1\n",
        "#Displaying the total number of positive/negative/neutral tweets available in the dataset\n",
        "print(\"Total Number of Tweets:\",total)\n",
        "print(\"Number of Positive Tweets:\",positive)\n",
        "print(\"Number of True Positive Tweets:\",true_positive)\n",
        "print(\"Number of Negative Tweets:\",negative)\n",
        "print(\"Number of True Negative Tweets:\",true_negative)\n",
        "print(\"Number of Neutral Tweets:\",neutral)"
      ],
      "metadata": {
        "colab": {
          "base_uri": "https://localhost:8080/"
        },
        "id": "m7jslMpsnuF6",
        "outputId": "c60eb9f7-36da-420f-8017-9b50500dd7dc"
      },
      "execution_count": null,
      "outputs": [
        {
          "output_type": "stream",
          "name": "stdout",
          "text": [
            "Total Number of Tweets: 190325\n",
            "Number of Positive Tweets: 61548\n",
            "Number of True Positive Tweets: 44801\n",
            "Number of Negative Tweets: 30105\n",
            "Number of True Negative Tweets: 15344\n",
            "Number of Neutral Tweets: 98672\n"
          ]
        }
      ]
    },
    {
      "cell_type": "markdown",
      "source": [
        "## **Text Classification**"
      ],
      "metadata": {
        "id": "3kKnW9qChmOW"
      }
    },
    {
      "cell_type": "code",
      "source": [
        "#Taking input from the user\n",
        "tweet = input(f\"\\nEnter the tweet : \").lower()\n",
        "print(tweet)"
      ],
      "metadata": {
        "colab": {
          "base_uri": "https://localhost:8080/"
        },
        "id": "iDy9gHRgdkHF",
        "outputId": "eb3b6110-c556-49ed-f58b-c12c5d9719ca"
      },
      "execution_count": null,
      "outputs": [
        {
          "output_type": "stream",
          "name": "stdout",
          "text": [
            "\n",
            "Enter the tweet : We are deeply saddened by the passing of Her Majesty Queen Elizabeth II.   We will be forever grateful for the extraordinary service she gave to the nation during her long and glorious reign.   Our thoughts are with the Royal Family at this time.  https://t.co/BK2TGSRN2f\n",
            "we are deeply saddened by the passing of her majesty queen elizabeth ii.   we will be forever grateful for the extraordinary service she gave to the nation during her long and glorious reign.   our thoughts are with the royal family at this time.  https://t.co/bk2tgsrn2f\n"
          ]
        }
      ]
    },
    {
      "cell_type": "code",
      "source": [
        "#Stopword Removal\n",
        "tweet=stopwordsRemovalFn(tweet)\n",
        "#Punctuation Removal\n",
        "tweet=punctuationRemovalFn(tweet)\n",
        "#Removing repeated character\n",
        "tweet=repeatingCharacterRemovalFn(tweet)\n",
        "#CLeaning URLs/HTML Data\n",
        "tweet=cleaningHTMLDataFn(tweet)\n",
        "#Removing Numbers\n",
        "tweet=removingNumbersFn(tweet)\n",
        "tweet=\"\".join(tweet)"
      ],
      "metadata": {
        "id": "kb5s2XZtdxKi"
      },
      "execution_count": null,
      "outputs": []
    },
    {
      "cell_type": "code",
      "source": [
        "#Calculating and printing the sentiment score from the tweet that is preprocessed.\n",
        "print(TextBlob(tweet).sentiment)\n",
        "score=TextBlob(tweet).sentiment.polarity\n",
        "print(textClassification(score))"
      ],
      "metadata": {
        "colab": {
          "base_uri": "https://localhost:8080/"
        },
        "outputId": "d36a02a1-9a32-48e4-fae5-82d891760dba",
        "id": "orLOulEudxKk"
      },
      "execution_count": null,
      "outputs": [
        {
          "output_type": "stream",
          "name": "stdout",
          "text": [
            "Sentiment(polarity=0.09444444444444444, subjectivity=0.6)\n",
            "Positive\n"
          ]
        }
      ]
    }
  ],
  "metadata": {
    "colab": {
      "provenance": []
    },
    "kernelspec": {
      "display_name": "Python 3",
      "name": "python3"
    },
    "language_info": {
      "name": "python"
    }
  },
  "nbformat": 4,
  "nbformat_minor": 0
}